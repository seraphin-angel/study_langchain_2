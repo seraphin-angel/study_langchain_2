{
 "cells": [
  {
   "cell_type": "markdown",
   "metadata": {},
   "source": [
    "# Evaluate Langfuse LLM Traces with an External Evaluation Pipeline"
   ]
  },
  {
   "cell_type": "code",
   "execution_count": 1,
   "metadata": {},
   "outputs": [
    {
     "data": {
      "text/plain": [
       "True"
      ]
     },
     "execution_count": 1,
     "metadata": {},
     "output_type": "execute_result"
    }
   ],
   "source": [
    "from dotenv import load_dotenv\n",
    "\n",
    "load_dotenv()"
   ]
  },
  {
   "cell_type": "code",
   "execution_count": 1,
   "metadata": {},
   "outputs": [
    {
     "name": "stdout",
     "output_type": "stream",
     "text": [
      "ブラックホールの謎\n",
      "人工知能の進化と未来\n",
      "脳の可塑性と学習\n",
      "地球外生命体の探求\n",
      "サステナブルエネルギーの革新\n",
      "クローン技術の可能性と倫理\n",
      "バイオテクノロジーによる医療革命\n",
      "確率論と日常生活\n",
      "量子コンピューティングの未来\n",
      "プラズマ物理学の奇跡\n",
      "遺伝子編集技術CRISPRの可能性\n",
      "ミクロの世界に生きる細菌の役割\n",
      "人間の感情と脳の関係\n",
      "宇宙の起源とビッグバン理論\n",
      "サイボーグ技術の進化\n",
      "感覚の不思議とその脳内メカニズム\n",
      "環境変動と生態系の変化\n",
      "ナノテクノロジーの応用\n",
      "音の科学と音響技術\n",
      "自閉症と脳の働き\n",
      "心理学が教える幸せの秘訣\n",
      "ゲノム解析と個別化医療\n",
      "時間旅行の理論と可能性\n",
      "スマートシティの未来像\n",
      "脳波と外部機器のインターフェース\n",
      "身体と心の関係: ヨガの科学\n",
      "地球温暖化とその影響\n",
      "未来の食糧問題とそれに対する解決策\n",
      "ヒューマンエンハンスメントの倫理的側面\n",
      "蜂の生態と人類の未来\n",
      "データサイエンスとその社会的影響\n",
      "フィルムと音楽の交差点: 脳の反応\n",
      "エコロジカルフットプリントと持続可能性\n",
      "人間の繁殖と進化の歴史\n",
      "脳のリミットに挑戦するマインドフルネス\n",
      "環境保護と心理学の関係\n",
      "ヘルスケアテクノロジーの進化\n",
      "感情と記憶の神秘\n",
      "音楽が脳に与える影響\n",
      "発明の歴史と偉大な発明家たち\n",
      "人間の体内マイクロバイオームの秘密\n",
      "宇宙の色とその科学\n",
      "仮想現実とその心理的影響\n",
      "知覚のトリック: 幻覚のメカニズム\n",
      "進化論と人間の行動\n",
      "風力発電の最新技術\n",
      "過去から学ぶ未来の社会\n",
      "AIによる芸術創造の可能性\n",
      "脳科学が解き明かす創造性\n",
      "人類の未来都市プロジェクト\n",
      "自然界の驚くべき適応戦略\n",
      "運動と精神の健康の関係\n"
     ]
    }
   ],
   "source": [
    "import openai\n",
    " \n",
    "topic_suggestion = \"\"\" あなたは世界トップクラスのジャーナリストであり、\n",
    "人々を最もワクワクさせる話題を見極めることに長けています。\n",
    "あなたの仕事は、一般の人々が喜んで読むようなポップサイエンスのトピックを50個提案することです。\n",
    "トピックが重複しないようにしてください。\n",
    "出力はカンマ区切りのリストでなければなりません。リストを生成し、それ以外は何も生成しないでください。\n",
    "数字の使用は禁止されています。\n",
    "\"\"\"\n",
    " \n",
    "output = openai.chat.completions.create(\n",
    "    messages=[\n",
    "        {\n",
    "            \"role\": \"user\",\n",
    "            \"content\": topic_suggestion\n",
    "        }\n",
    "    ],\n",
    "    model=\"gpt-4o-mini\",\n",
    " \n",
    "    temperature=1\n",
    ").choices[0].message.content\n",
    " \n",
    "topics = [item.strip() for item in output.split(\",\")]\n",
    "for topic in topics:\n",
    "    print(topic)"
   ]
  },
  {
   "cell_type": "code",
   "execution_count": 2,
   "metadata": {},
   "outputs": [
    {
     "name": "stdout",
     "output_type": "stream",
     "text": [
      "Input: Please explain to me ブラックホールの謎\n",
      "Answer: ブラックホールは、宇宙の中でも特に不思議な存在です。とても強い重力を持っていて、光さえも逃げられないため、見ることができません。でも、周りの星やガスがその影響を受けるのを観察することで、ブラックホールの存在を確認できます。まるで宇宙の秘密を隠している魔法のようですね！ \n",
      "\n",
      "Input: Please explain to me 人工知能の進化と未来\n",
      "Answer: 人工知能（AI）は、私たちの日常生活をどんどん便利にしてくれています。例えば、スマートフォンの音声アシスタントや、自動運転車などがその例です。未来には、もっと多くの分野でAIが活躍し、私たちの生活をサポートしてくれるでしょう。楽しみですね！ \n",
      "\n",
      "Input: Please explain to me 脳の可塑性と学習\n",
      "Answer: 脳の可塑性は、脳が新しい情報を学んだり、経験に応じて変化したりする能力のことです。これにより、私たちは新しいスキルを身につけたり、記憶を強化したりできます。たとえば、楽器を演奏する練習をすると、脳の関連する部分がより活発になり、上達します。つまり、学ぶことで脳が成長し、私たちの能力も広がるんです！ \n",
      "\n",
      "Input: Please explain to me 地球外生命体の探求\n",
      "Answer: 地球外生命体の探求は、私たちが宇宙の神秘を解き明かすためのワクワクする冒険です！科学者たちは、他の惑星や月の環境を調査し、生命の存在の可能性を探っています。例えば、火星やエウロパという氷の月には、生命が存在するかもしれない水があるんです。宇宙を旅する探査機たちが、私たちに未知の世界を見せてくれる日を楽しみにしましょう！ \n",
      "\n",
      "Input: Please explain to me サステナブルエネルギーの革新\n",
      "Answer: サステナブルエネルギーの革新は、私たちの未来をより明るくする鍵です！太陽光や風力など、自然の力を使ってエネルギーを生み出す方法が進化し、より効率的で手頃になっています。これにより、環境への負担を減らしながら、私たちの生活を支えることができます。新しい技術のおかげで、持続可能なエネルギーがますます身近になってきていますね！ \n",
      "\n",
      "Input: Please explain to me クローン技術の可能性と倫理\n",
      "Answer: クローン技術は、同じ遺伝子を持つ生物を作り出す力を持っていますが、その可能性には大きな夢と同時に深い悩みもあります。たとえば、絶滅危惧種の保護や病気の治療に役立つかもしれませんが、生命の尊厳や個性についての疑問も生まれます。私たちがこの技術をどう使うかは、未来の社会にとって重要な選択となるでしょう。科学の進歩と倫理のバランスを考えることが、これからの課題ですね。 \n",
      "\n",
      "Input: Please explain to me バイオテクノロジーによる医療革命\n",
      "Answer: バイオテクノロジーは、私たちの健康を劇的に変える力を持っています！例えば、遺伝子編集技術を使って病気の原因を直接修正したり、新しい治療法を開発したりしています。さらに、個々の患者に合わせたオーダーメイドの医療も実現可能です。これにより、より効果的で安全な治療が受けられる未来が待っていますよ！ \n",
      "\n",
      "Input: Please explain to me 確率論と日常生活\n",
      "Answer: 確率論は、私たちの日常生活にひそんでいる面白い数学の一部です。例えば、天気予報は「明日の雨の確率は70%」と言いますが、これは実際の天気を予測するための確率を使っています。宝くじを買うときも、当選する確率を考えることで、期待感と現実を理解できますね。つまり、確率論は私たちの選択や判断に影響を与えている、身近で魅力的な知識なんです！ \n",
      "\n",
      "Input: Please explain to me 量子コンピューティングの未来\n",
      "Answer: 量子コンピューティングの未来は、まるで魔法のような可能性に満ちています！従来のコンピュータでは時間がかかる計算も、量子コンピュータなら一瞬で解けるかもしれません。この技術が進化すれば、医療や気候変動の解決にも大きな影響を与えるでしょう。未来のコンピュータは、私たちの生活をもっと便利で豊かにしてくれるかもしれませんね！ \n",
      "\n",
      "Input: Please explain to me プラズマ物理学の奇跡\n",
      "Answer: プラズマ物理学は、物質の第四の状態、つまりプラズマを研究する分野です。プラズマは、星の中や蛍光灯の中に存在し、非常に高温でエネルギーを持っています。科学者たちは、このプラズマを利用して新しいエネルギー源を探したり、宇宙の謎を解明したりしています。まるで宇宙の秘密を解き明かす冒険のようですね！ \n",
      "\n",
      "Input: Please explain to me 遺伝子編集技術crisprの可能性\n",
      "Answer: CRISPRは、まるで生物のDNAを編集するための「ハサミ」のような技術です。これを使うことで、病気の原因となる遺伝子を修正したり、作物をより強く育てたりすることができます。未来には、遺伝子編集が私たちの健康や環境を改善する大きな力になるかもしれません。想像するだけでワクワクしますね！ \n",
      "\n",
      "Input: Please explain to me ミクロの世界に生きる細菌の役割\n",
      "Answer: 細菌は私たちの目には見えない小さな生き物ですが、地球上でとても大切な役割を果たしています。例えば、土の中で栄養を分解し、植物が育つための助けをしています。また、体の中でも善玉菌として働き、消化を助けたり免疫を強化したりしています。彼らがいなければ、私たちの生活はずっと厳しくなってしまうんですよ！ \n",
      "\n",
      "Input: Please explain to me 人間の感情と脳の関係\n",
      "Answer: 人間の感情は、脳の中でさまざまな部分が協力して作り出しています。例えば、喜びや驚きは特定の神経細胞が活発になることで感じられます。感情は私たちの行動や思考にも大きな影響を与えていて、友達と笑ったり、悲しい映画を見て涙を流したりするのも、すべて脳の働きのおかげなんです。つまり、感情は脳の大切な仕事の一部で、私たちの人生を色鮮やかにしてくれるものなんですよ！ \n",
      "\n",
      "Input: Please explain to me 宇宙の起源とビッグバン理論\n",
      "Answer: 宇宙の起源について考えると、ビッグバン理論が一番有名です。これは、約138億年前に宇宙が非常に小さく、熱く、密度の高い状態から急に膨張したというアイデアです。この膨張のおかげで、星や銀河が形成され、今の広大な宇宙ができたと言われています。宇宙の始まりはまるで壮大な花火のようで、今もその影響が続いているんですよ！ \n",
      "\n",
      "Input: Please explain to me サイボーグ技術の進化\n",
      "Answer: サイボーグ技術は、機械と人間の能力を組み合わせることで進化しています。例えば、義肢や脳に直接つながるデバイスが開発され、失った機能を取り戻す手助けをしています。これにより、障害を持つ人々の生活がより豊かになりつつあります。未来には、もっと多くの人がこの技術の恩恵を受けることが期待されています！ \n",
      "\n",
      "Input: Please explain to me 感覚の不思議とその脳内メカニズム\n",
      "Answer: 感覚は私たちの周りの世界を知るための窓のようなものです。目や耳、皮膚などの感覚器官が情報を集め、脳がそれを解釈して私たちに体験をもたらします。このプロセスは、脳内での電気信号のやり取りによって行われ、まるで楽器が奏でる音楽のように、様々な感覚が調和しています。だから、感覚の不思議さを感じるとき、実は脳が素晴らしいオーケストラを演奏しているのです！ \n",
      "\n",
      "Input: Please explain to me 環境変動と生態系の変化\n",
      "Answer: 環境変動は、気温の上昇や降水パターンの変化など、自然界に大きな影響を与えます。これにより、生態系内の動植物の分布が変わり、一部の種は生き残るのが難しくなります。例えば、北極の氷が減ることで、ホッキョクグマの生活環境が脅かされています。私たちができることは、環境を守るための小さな行動を始めることです！ \n",
      "\n",
      "Input: Please explain to me ナノテクノロジーの応用\n",
      "Answer: ナノテクノロジーは、非常に小さな物質を使って新しい技術を作り出す分野です。例えば、医療では、病気を治すための薬をより効率的に届けるために使われています。また、エレクトロニクスでは、より小型で高性能なデバイスを作るのに役立っています。未来には、私たちの日常生活にもっと多くの便利さをもたらすことが期待されています！ \n",
      "\n",
      "Input: Please explain to me 音の科学と音響技術\n",
      "Answer: 音の科学は、音がどのようにして生まれ、伝わり、私たちの耳に届くかを探る分野です。音は空気の振動によって作られ、私たちが聞くことができる波のようなものです。音響技術は、その音を録音したり、増幅したり、加工したりする技術で、音楽や映画、さらにはコンサートなどで大活躍しています。音の世界はとても魅力的で、私たちの生活に彩りを加えてくれますね！ \n",
      "\n",
      "Input: Please explain to me 自閉症と脳の働き\n",
      "Answer: 自閉症は脳の発達に関係する状態で、特にコミュニケーションや社会的なやり取りに影響を与えることがあります。脳の特定の部分が異なる働きをするため、感覚や情報の処理がユニークな形で行われることが多いです。これにより、興味や得意な分野が他の人とは違うことがあり、それが魅力的な個性を生むこともあります。自閉症を理解することで、多様な人々とのつながりが深まるかもしれませんね！ \n",
      "\n",
      "Input: Please explain to me 心理学が教える幸せの秘訣\n",
      "Answer: 心理学が教える幸せの秘訣は、感謝の気持ちを持つことや、人とのつながりを大切にすることです。日常の小さな喜びに目を向けることで、心が豊かになります。また、自分の感情を素直に表現することも大切です。幸せは他人との共有から生まれることが多いので、友達や家族と一緒に楽しむ時間を大切にしましょう！ \n",
      "\n",
      "Input: Please explain to me ゲノム解析と個別化医療\n",
      "Answer: ゲノム解析は私たちの遺伝子情報を読み解くことで、どのように病気が起こるかを理解する手助けをします。この情報を基に、個別化医療では患者一人ひとりに最適な治療法を提案できるんです。例えば、同じ病気でも人によって反応が違う薬を選ぶことができるので、より効果的な治療が期待できます。遺伝子の秘密を解き明かして、未来の医療を進化させる素晴らしい技術ですね！ \n",
      "\n",
      "Input: Please explain to me 時間旅行の理論と可能性\n",
      "Answer: 時間旅行は、未来や過去に移動することを考えるワクワクするアイデアです。科学者たちは、特に相対性理論を使って、時間がどのように流れるかを探求しています。理論的には、特定の条件下で時間旅行が可能かもしれませんが、現実にはまだ解明されていないことが多いです。未来の技術や発見に期待が膨らむ一方で、時間旅行が実現する日が来るかどうかは神秘に包まれていますね！ \n",
      "\n",
      "Input: Please explain to me スマートシティの未来像\n",
      "Answer: スマートシティは、テクノロジーを活用して住民の生活を便利にし、環境にも優しい都市を目指す場所です。例えば、自動運転車やセンサーを使った交通システムで、渋滞を減らし、移動がスムーズになります。また、エネルギー効率の良い建物や、再生可能エネルギーの活用で、持続可能な未来を実現します。未来のスマートシティでは、みんなが快適に過ごせる環境が整うことでしょう！ \n",
      "\n",
      "Input: Please explain to me 脳波と外部機器のインターフェース\n",
      "Answer: 脳波を使って外部機器とつなぐ技術は、まるで脳の思いを直接伝える魔法のようです！これにより、私たちは意識の力でロボットを動かしたり、コンピュータを操作したりできます。例えば、障害を持つ方がこの技術を使ってコミュニケーションを取る手助けをすることが可能です。未来には、もっと多くの夢がこの技術で実現するかもしれませんね！ \n",
      "\n",
      "Input: Please explain to me 身体と心の関係: ヨガの科学\n",
      "Answer: ヨガは心と体をつなげる素晴らしい方法です！ポーズを取ることで筋肉がほぐれ、呼吸を整えることで心がリラックスします。科学的にも、ヨガはストレスを減らし、気分を良くすることが示されています。だから、気持ちをスッキリさせたいときは、ヨガを試してみるのがオススメです！ \n",
      "\n",
      "Input: Please explain to me 地球温暖化とその影響\n",
      "Answer: 地球温暖化は、私たちの星が少しずつ熱くなっている現象です。この変化は、氷が溶けて海面が上昇したり、異常気象が増えたりする原因になります。これにより、私たちの生活や自然環境に大きな影響が出てしまうんです。でも、みんなで協力してエネルギーを節約したり、再生可能な資源を利用することで、未来をより良いものにすることができるんですよ！ \n",
      "\n",
      "Input: Please explain to me 未来の食糧問題とそれに対する解決策\n",
      "Answer: 未来の食糧問題は、人口増加や気候変動が影響していますが、楽しい解決策もいくつかあります。例えば、都市農業や垂直農法を活用すると、限られたスペースでも効率的に食べ物を育てることができます。また、植物由来の食材や昆虫を食べることで、環境に優しい食事が可能になります。みんなで新しい食の楽しみを見つけることが、未来の食糧問題を解決する鍵かもしれません！ \n",
      "\n",
      "Input: Please explain to me ヒューマンエンハンスメントの倫理的側面\n",
      "Answer: ヒューマンエンハンスメントは、人間の能力を向上させる技術や方法ですが、その倫理的側面も考える必要があります。例えば、誰もが平等にアクセスできるのか、または特定の人だけが恩恵を受けるのかという問題があります。さらに、自然な人間の限界を超えることで、私たちのアイデンティティや社会の価値観が変わるかもしれません。こうした課題を考えることは、私たちが未来をどう築いていくかにとても重要です！ \n",
      "\n",
      "Input: Please explain to me 蜂の生態と人類の未来\n",
      "Answer: 蜂は自然界の小さな英雄で、花粉を運ぶことで植物の成長を助けています。彼らがいなくなると、果物や野菜が減ってしまうかもしれません。私たちの未来は、蜂たちが健康でいられる環境を作ることにかかっています。彼らを守ることで、私たち自身の食卓も守ることができるんです！ \n",
      "\n",
      "Input: Please explain to me データサイエンスとその社会的影響\n",
      "Answer: データサイエンスは、情報を分析して価値ある洞察を引き出す技術のことです。私たちの生活において、健康管理や交通の最適化、さらにはマーケティング戦略まで、さまざまな場面で役立っています。例えば、病気の予測や治療法の開発に貢献しているんですよ！データを使うことで、より良い社会を築く手助けができるのです。 \n",
      "\n",
      "Input: Please explain to me フィルムと音楽の交差点: 脳の反応\n",
      "Answer: 映画と音楽が一緒になると、私たちの脳は特別な反応を示します。音楽は感情を引き出し、映像と組み合わさることで、ストーリーの深みを増します。例えば、感動的なシーンでは音楽が心を打つことで、涙が出てしまうこともありますよね。映画館での体験がより強烈になるのは、まさにこの脳の働きのおかげです！ \n",
      "\n",
      "Input: Please explain to me エコロジカルフットプリントと持続可能性\n",
      "Answer: エコロジカルフットプリントは、私たちの生活が地球に与える影響を示す指標です。具体的には、食べ物やエネルギー、資源を使うことで、どれだけの土地や水が必要かを表しています。持続可能性は、この影響を軽減し、未来の世代が同じように地球を楽しめるようにする考え方です。つまり、私たちの選択が環境に優しいものであれば、地球も長生きできるんです！ \n",
      "\n",
      "Input: Please explain to me 人間の繁殖と進化の歴史\n",
      "Answer: 人間の繁殖と進化は、何百万年もの間にわたる壮大な物語です。私たちの祖先は、環境に適応しながら変化を続け、やがて現代の人間へと進化しました。この過程では、繁殖の仕組みや社会的なつながりが重要な役割を果たしました。つまり、私たちが今ここにいるのは、長い歴史の中での挑戦や成功の積み重ねのおかげなんです！ \n",
      "\n",
      "Input: Please explain to me 脳のリミットに挑戦するマインドフルネス\n",
      "Answer: マインドフルネスは、心を今この瞬間に集中させることで、脳のストレスを軽減し、クリエイティビティを高める手助けをします。呼吸に意識を向けることで、心がリラックスし、思考のクリアさを取り戻せます。これにより、脳の限界を感じる瞬間も、より冷静に対処できるようになります。さあ、深呼吸して、心の旅に出かけてみましょう！ \n",
      "\n",
      "Input: Please explain to me 環境保護と心理学の関係\n",
      "Answer: 環境保護と心理学は、私たちが自然をどう感じ、どう行動するかに深く関わっています。心理学は、環境に対する意識や行動を理解する手助けをし、どうすれば人々がもっと環境を大切にするかを考えるのに役立ちます。例えば、自然の中で過ごすことで心がリフレッシュされ、環境保護への関心が高まることもあります。つまり、心と環境はお互いに影響し合っているのです！ \n",
      "\n",
      "Input: Please explain to me ヘルスケアテクノロジーの進化\n",
      "Answer: ヘルスケアテクノロジーは、私たちの健康管理を劇的に変えています！スマートフォンやウェアラブルデバイスを使って、自分の体の状態を簡単にチェックできるようになりました。さらに、AIが医療診断をサポートし、より早く正確な治療が可能になっています。未来の医療は、もっと身近で便利になること間違いなしです！ \n",
      "\n",
      "Input: Please explain to me 感情と記憶の神秘\n",
      "Answer: 感情と記憶は、まるで親友のように密に結びついています。嬉しい出来事や悲しい出来事は、脳の中で特別な印を残し、それが記憶を鮮やかにするのです。例えば、楽しい夏の思い出を思い出すと、心が温かくなりますよね。それは、感情が記憶を色づけて、私たちの生活に深い意味を与えているからなんです！ \n",
      "\n",
      "Input: Please explain to me 音楽が脳に与える影響\n",
      "Answer: 音楽は心を豊かにし、脳にさまざまな良い影響を与えます。聴くことでストレスが減り、気分が良くなったり、集中力が高まったりします。また、音楽は記憶を助けたり、創造性を引き出したりすることもあります。だから、好きな音楽を聴くことは、心と体にとってとても良いことなんです！ \n",
      "\n",
      "Input: Please explain to me 発明の歴史と偉大な発明家たち\n",
      "Answer: 発明の歴史は、人類が生活を便利にするために工夫を重ねてきた物語です。古代から始まり、火や車輪の発明が人々の生活を一変させました。偉大な発明家たち、例えばエジソンやダ・ヴィンチは、夢を形にして未来を切り開いてきました。彼らのアイデアは、今日の私たちの生活に欠かせないものとなっています！ \n",
      "\n",
      "Input: Please explain to me 人間の体内マイクロバイオームの秘密\n",
      "Answer: 人間の体内マイクロバイオームは、私たちの体に住む小さな微生物たちのコミュニティです。これらの微生物は、消化を助けたり、免疫システムをサポートしたりしてくれます。実は、マイクロバイオームのバランスが健康に大きく影響することが最近の研究でわかっています。つまり、腸内の小さな仲間たちを大切にすることが、私たちの健康を守る鍵なのです！ \n",
      "\n",
      "Input: Please explain to me 宇宙の色とその科学\n",
      "Answer: 宇宙の色は、私たちが見る星や銀河の光によって決まります。星は異なる温度を持っていて、その温度によって色が変わります。例えば、温かい星は青白く、冷たい星は赤っぽく見えます。さらに、宇宙全体の背景には、赤外線やマイクロ波などの目に見えない光もあって、これが宇宙の色を豊かにしています！ \n",
      "\n",
      "Input: Please explain to me 仮想現実とその心理的影響\n",
      "Answer: 仮想現実（VR）は、まるで別の世界にいるかのような体験を提供してくれます。楽しいゲームや没入型の体験を通じて、現実とは違う感覚を味わうことができますが、長時間の使用は疲れやストレスを感じることもあるんです。面白いことに、VRは特定の状況を体験することで、恐怖症の克服やリラクゼーションにも役立つことがあります。新しい体験を楽しむ一方で、自分の心の健康にも気を付けて楽しみましょう！ \n",
      "\n",
      "Input: Please explain to me 知覚のトリック: 幻覚のメカニズム\n",
      "Answer: 幻覚は、私たちの脳が現実をちょっと違った形で解釈することから生まれます。例えば、目の前にないものが見えたり、音が聞こえたりするのは、脳が情報を混乱させるから。ストレスや疲れ、特定の薬物がそのトリックを引き起こすこともあります。まるで脳が映画を作っているようなもので、現実と想像の境界が曖昧になってしまうんです！ \n",
      "\n",
      "Input: Please explain to me 進化論と人間の行動\n",
      "Answer: 進化論は、人間の行動を理解する手助けをしてくれます。私たちの行動は、何千年も前の環境に適応するために進化してきた結果です。たとえば、協力やコミュニケーションの能力は、仲間と生き残るために重要でした。だからこそ、私たちは今でも他人とつながり、助け合うことを大切にしているのです。 \n",
      "\n",
      "Input: Please explain to me 風力発電の最新技術\n",
      "Answer: 風力発電の最新技術では、より効率的な風車が登場しています。これらの風車は、軽量で強靭な素材を使っており、風を捉える能力が向上しています。また、デジタル技術の進化により、風の流れをリアルタイムで分析し、発電量を最大化することができるようになりました。これにより、クリーンエネルギーの利用がますます広がっています！ \n",
      "\n",
      "Input: Please explain to me 過去から学ぶ未来の社会\n",
      "Answer: 過去の出来事や経験から学ぶことは、未来の社会をより良くするための大切なステップです。歴史を振り返ることで、私たちは成功や失敗の教訓を得て、同じ過ちを繰り返さないようにできます。例えば、環境問題や社会的不平等についての理解を深めることで、持続可能で公平な未来を築く手助けができるのです。過去を学びに変えることで、私たちは希望に満ちた未来を描いていけるのです！ \n",
      "\n",
      "Input: Please explain to me aiによる芸術創造の可能性\n",
      "Answer: AIによる芸術創造は、まるで新しい友達がアートの世界に飛び込んできたようなものです！AIは膨大なデータを使って、絵画や音楽、詩を生み出すことができ、私たちの想像を超える作品を提供してくれます。これにより、アーティストは新しいインスピレーションを得たり、コラボレーションを楽しんだりすることができます。未来のアートの世界は、AIと人間の共演でさらに豊かになりそうですね！ \n",
      "\n",
      "Input: Please explain to me 脳科学が解き明かす創造性\n",
      "Answer: 脳科学は、私たちの創造性がどのように働くかを探る素晴らしい窓を開いています。脳の中で異なる部分が協力して新しいアイデアを生み出し、想像力を豊かにします。例えば、リラックスしたり遊んだりすることで、創造的なひらめきが訪れることが多いんですよ。つまり、楽しい時間を過ごすことが、あなたの創造力を引き出す秘訣かもしれません！ \n",
      "\n",
      "Input: Please explain to me 人類の未来都市プロジェクト\n",
      "Answer: 未来の都市は、私たちの生活を便利で楽しいものにするために進化しています。例えば、緑豊かな公園や、自動運転の車、再生可能エネルギーを使った建物が増えることで、環境にも優しい街が実現します。これにより、コミュニティがよりつながりやすく、住みやすい場所になるのです。未来の都市は、私たちの夢を形にした素敵な場所になることでしょう！ \n",
      "\n",
      "Input: Please explain to me 自然界の驚くべき適応戦略\n",
      "Answer: 自然界には驚くべき適応戦略がたくさんあります！たとえば、カメレオンは環境に溶け込むために色を変えることができ、捕食者から身を守ります。また、ペンギンは寒い南極での生活に特化した体型を持ち、仲間と一緒に体温を保ちながら泳ぎ回ります。これらの適応は、生命がどれほど創造的であるかを教えてくれますね！ \n",
      "\n",
      "Input: Please explain to me 運動と精神の健康の関係\n",
      "Answer: 運動は心と体の両方に素晴らしい影響を与えます！体を動かすことで、ストレスが軽減され、気分が良くなるホルモンが分泌されるんです。また、運動をすることで自信がつき、社交的なつながりも増えるので、心の健康にもつながります。だから、楽しく体を動かすことは、心を元気にする秘訣なんですよ！ \n",
      "\n"
     ]
    }
   ],
   "source": [
    "from langfuse.decorators import langfuse_context, observe\n",
    " \n",
    "prompt_template = \"\"\"\n",
    "あなたは科学の専門家であり、複雑なトピックをわかりやすく説明できるコミュニケーション能力の持ち主です。\n",
    "あなたの任務は、ユーザーの質問に魅力的で、有益で、親しみやすい方法で回答することです\n",
    "魅力的で、有益で、親しみやすい方法で対応することです。事実を述べ、\n",
    "専門用語は使用しないでください。回答は4文以内にしてください。\n",
    "覚えておいてください。魅力的で楽しい回答を心がけてください!\n",
    " \n",
    "Question: {question}\n",
    "\"\"\"\n",
    " \n",
    "@observe()\n",
    "def explain_concept(topic):\n",
    "    langfuse_context.update_current_trace(\n",
    "        name=f\"Explanation '{topic}'\",\n",
    "        tags=[\"ext_eval_pipelines\"]\n",
    "    )\n",
    "    prompt = prompt_template.format(question=topic)\n",
    " \n",
    " \n",
    "    return openai.chat.completions.create(\n",
    "        messages=[\n",
    "            {\n",
    "                \"role\": \"user\",\n",
    "                \"content\": prompt,\n",
    "            }\n",
    "        ],\n",
    "        model=\"gpt-4o-mini\",\n",
    " \n",
    "        temperature=0.6\n",
    "    ).choices[0].message.content\n",
    " \n",
    " \n",
    "for topic in topics:\n",
    "    print(f\"Input: Please explain to me {topic.lower()}\")\n",
    "    print(f\"Answer: {explain_concept(topic)} \\n\")"
   ]
  },
  {
   "cell_type": "markdown",
   "metadata": {},
   "source": [
    "### 1. トレースを取得する"
   ]
  },
  {
   "cell_type": "code",
   "execution_count": 3,
   "metadata": {},
   "outputs": [
    {
     "name": "stdout",
     "output_type": "stream",
     "text": [
      "Traces in first batch: 10\n"
     ]
    }
   ],
   "source": [
    "from langfuse import Langfuse\n",
    "from datetime import datetime, timedelta\n",
    " \n",
    "BATCH_SIZE = 10\n",
    "TOTAL_TRACES = 50\n",
    " \n",
    "langfuse = Langfuse()\n",
    " \n",
    "now = datetime.now()\n",
    "five_am_today = datetime(now.year, now.month, now.day, 5, 0)\n",
    "five_am_yesterday = five_am_today - timedelta(days=1)\n",
    " \n",
    "traces_batch = langfuse.fetch_traces(page=1,\n",
    "                                     limit=BATCH_SIZE,\n",
    "                                     tags=\"ext_eval_pipelines\",\n",
    "                                     from_timestamp=five_am_yesterday,\n",
    "                                     to_timestamp=datetime.now()\n",
    "                                   ).data\n",
    " \n",
    "print(f\"Traces in first batch: {len(traces_batch)}\")"
   ]
  },
  {
   "cell_type": "markdown",
   "metadata": {},
   "source": [
    "### 2. 評価を実行する"
   ]
  },
  {
   "cell_type": "markdown",
   "metadata": {},
   "source": [
    "2.1. カテゴリ評価"
   ]
  },
  {
   "cell_type": "code",
   "execution_count": 4,
   "metadata": {},
   "outputs": [
    {
     "name": "stdout",
     "output_type": "stream",
     "text": [
      "User query: 自然界の驚くべき適応戦略\n",
      "Model answer: 自然界には驚くべき適応戦略がたくさんあります！たとえば、カメレオンは環境に溶け込むために色を変えることができ、捕食者から身を守ります。また、ペンギンは寒い南極での生活に特化した体型を持ち、仲間と一緒に体温を保ちながら泳ぎ回ります。これらの適応は、生命がどれほど創造的であるかを教えてくれますね！\n",
      "Dominant tones: 喜び、尊敬、楽観\n"
     ]
    }
   ],
   "source": [
    "template_tone_eval = \"\"\"\n",
    "あなたは人間の感情的知性のエキスパートです。\n",
    " 人間が書いたテキストのトーンを容易に特定できます。あなたの仕事は、<text/>のトーンを正確に特定することです\n",
    " テキストのトーンを正確に特定することです。 出力は、3つのトーンをカンマで区切ったリストです\n",
    " トーンのコンマ区切りのリストを作成します。リストのみを印刷し、他のものは印刷しないでください.\n",
    " \n",
    "<possible_tones>\n",
    "中立、自信、喜び、楽観、友好的、緊急、分析、尊敬\n",
    "</possible_tones>\n",
    " \n",
    "<example_1>\n",
    "Input: 市民科学は、一般の人々を科学プロジェクトに参加させることで、研究に重要な役割を果たします\n",
    "人々を科学プロジェクトに参加させることで、研究に重要な役割を果たしています。この協力により、研究者は\n",
    "単独では収集不可能な膨大な量のデータを収集することができます。市民\n",
    "科学者は、さまざまな分野における新たな発見や進歩につながる貴重な観察結果や洞察を提供しています\n",
    "発見やさまざまな分野での進歩につながる。市民科学プロジェクトに参加することで、\n",
    "科学プロジェクトに参加することで、個人は科学的研究に積極的に貢献\n",
    "、身の回りの世界に対する理解に有意義な影響を与えることができます。.\n",
    " \n",
    "Output: 尊敬、楽観、自信\n",
    "</example_1>\n",
    " \n",
    "<example_2>\n",
    "Input: バイオニクスとは、生物学と工学を融合し、\n",
    "人間の能力を向上させることができる機器を開発する分野です。人間と機械を融合させることで、\n",
    "バイオニクスは、障害を持つ人々の生活の質を向上させたり、\n",
    "、あるいは他の人のパフォーマンスを向上させることを目的としています。これらの技術は、しばしば\n",
    "身体の自然なプロセスを模倣し、シームレスな統合を実現します。全体として、バイオニクスは\n",
    "将来的に医療とテクノロジーに革命をもたらす大きな可能性を秘めています.\n",
    " \n",
    "Output: 楽観的、自信に満ちている、分析的\n",
    "</example_2>\n",
    " \n",
    "<example_3>\n",
    "Input: ソーシャルメディアは、精神衛生に良い影響も悪い影響も与える可能性があります。\n",
    "。ポジティブな面では、人々がつながり、経験を共有し、\n",
    "サポートを得ることもできます。しかし、ソーシャルメディアの過剰な使用は、\n",
    "無力感、孤独感、不安感につながることもあります。\n",
    "バランスを保ち、ソーシャルメディアが精神的な健康にどのような影響を与えるかを意識することが重要です。\n",
    "時には休むことも、心の健康を優先させることも大切だということを覚えておいてください。\n",
    " \n",
    "Output: 友好的、中立、敬意を払った\n",
    "</example_3>\n",
    " \n",
    "<text>\n",
    "{text}\n",
    "</text>\n",
    "\"\"\"\n",
    " \n",
    " \n",
    "test_tone_score = openai.chat.completions.create(\n",
    "    messages=[\n",
    "        {\n",
    "            \"role\": \"user\",\n",
    "            \"content\": template_tone_eval.format(\n",
    "                text=traces_batch[1].output),\n",
    "        }\n",
    "    ],\n",
    "    model=\"gpt-4o\",\n",
    " \n",
    "    temperature=0\n",
    ").choices[0].message.content\n",
    "print(f\"User query: {traces_batch[1].input['args'][0]}\")\n",
    "print(f\"Model answer: {traces_batch[1].output}\")\n",
    "print(f\"Dominant tones: {test_tone_score}\")"
   ]
  },
  {
   "cell_type": "code",
   "execution_count": 5,
   "metadata": {},
   "outputs": [
    {
     "data": {
      "text/plain": [
       "'楽観、喜び、友好的'"
      ]
     },
     "execution_count": 5,
     "metadata": {},
     "output_type": "execute_result"
    }
   ],
   "source": [
    "def tone_score(trace):\n",
    "    return openai.chat.completions.create(\n",
    "        messages=[\n",
    "            {\n",
    "                \"role\": \"user\",\n",
    "                \"content\": template_tone_eval.format(text=trace.output),\n",
    "            }\n",
    "        ],\n",
    "        model=\"gpt-4o-mini\",\n",
    "        temperature=0\n",
    "    ).choices[0].message.content\n",
    " \n",
    "tone_score(traces_batch[1])"
   ]
  },
  {
   "cell_type": "markdown",
   "metadata": {},
   "source": [
    "2.2. 数値評価"
   ]
  },
  {
   "cell_type": "code",
   "execution_count": 7,
   "metadata": {},
   "outputs": [
    {
     "data": {
      "text/html": [
       "<pre style=\"white-space:pre;overflow-x:auto;line-height:normal;font-family:Menlo,'DejaVu Sans Mono',consolas,'Courier New',monospace\">/Users/yoshidayasunori/Downloads/dev/LangChain_2/.venv/lib/python3.12/site-packages/rich/live.py:231: UserWarning: \n",
       "install \"ipywidgets\" for Jupyter support\n",
       "  warnings.warn('install \"ipywidgets\" for Jupyter support')\n",
       "</pre>\n"
      ],
      "text/plain": [
       "/Users/yoshidayasunori/Downloads/dev/LangChain_2/.venv/lib/python3.12/site-packages/rich/live.py:231: UserWarning: \n",
       "install \"ipywidgets\" for Jupyter support\n",
       "  warnings.warn('install \"ipywidgets\" for Jupyter support')\n"
      ]
     },
     "metadata": {},
     "output_type": "display_data"
    },
    {
     "data": {
      "text/html": [
       "<pre style=\"white-space:pre;overflow-x:auto;line-height:normal;font-family:Menlo,'DejaVu Sans Mono',consolas,'Courier New',monospace\">Event loop is already running. Applying nest_asyncio patch to allow async execution...\n",
       "</pre>\n"
      ],
      "text/plain": [
       "Event loop is already running. Applying nest_asyncio patch to allow async execution...\n"
      ]
     },
     "metadata": {},
     "output_type": "display_data"
    },
    {
     "data": {
      "text/html": [
       "<pre style=\"white-space:pre;overflow-x:auto;line-height:normal;font-family:Menlo,'DejaVu Sans Mono',consolas,'Courier New',monospace\">/Users/yoshidayasunori/Downloads/dev/LangChain_2/.venv/lib/python3.12/site-packages/rich/live.py:231: UserWarning: \n",
       "install \"ipywidgets\" for Jupyter support\n",
       "  warnings.warn('install \"ipywidgets\" for Jupyter support')\n",
       "</pre>\n"
      ],
      "text/plain": [
       "/Users/yoshidayasunori/Downloads/dev/LangChain_2/.venv/lib/python3.12/site-packages/rich/live.py:231: UserWarning: \n",
       "install \"ipywidgets\" for Jupyter support\n",
       "  warnings.warn('install \"ipywidgets\" for Jupyter support')\n"
      ]
     },
     "metadata": {},
     "output_type": "display_data"
    },
    {
     "data": {
      "text/html": [
       "<pre style=\"white-space:pre;overflow-x:auto;line-height:normal;font-family:Menlo,'DejaVu Sans Mono',consolas,'Courier New',monospace\">/Users/yoshidayasunori/Downloads/dev/LangChain_2/.venv/lib/python3.12/site-packages/rich/live.py:231: UserWarning: \n",
       "install \"ipywidgets\" for Jupyter support\n",
       "  warnings.warn('install \"ipywidgets\" for Jupyter support')\n",
       "</pre>\n"
      ],
      "text/plain": [
       "/Users/yoshidayasunori/Downloads/dev/LangChain_2/.venv/lib/python3.12/site-packages/rich/live.py:231: UserWarning: \n",
       "install \"ipywidgets\" for Jupyter support\n",
       "  warnings.warn('install \"ipywidgets\" for Jupyter support')\n"
      ]
     },
     "metadata": {},
     "output_type": "display_data"
    },
    {
     "data": {
      "text/html": [
       "<pre style=\"white-space:pre;overflow-x:auto;line-height:normal;font-family:Menlo,'DejaVu Sans Mono',consolas,'Courier New',monospace\"></pre>\n"
      ],
      "text/plain": []
     },
     "metadata": {},
     "output_type": "display_data"
    },
    {
     "data": {
      "text/html": [
       "<pre style=\"white-space:pre;overflow-x:auto;line-height:normal;font-family:Menlo,'DejaVu Sans Mono',consolas,'Courier New',monospace\">\n",
       "</pre>\n"
      ],
      "text/plain": [
       "\n"
      ]
     },
     "metadata": {},
     "output_type": "display_data"
    },
    {
     "name": "stdout",
     "output_type": "stream",
     "text": [
      "Score: 0.7337716937044428\n",
      "Reason: The text is informative and highlights interesting adaptation strategies of animals, but it lacks a strong sense of amusement and creativity compared to more engaging narratives.\n"
     ]
    },
    {
     "data": {
      "text/plain": [
       "{'score': 0.7337716937044428,\n",
       " 'reason': 'The text is informative and highlights interesting adaptation strategies of animals, but it lacks a strong sense of amusement and creativity compared to more engaging narratives.'}"
      ]
     },
     "execution_count": 7,
     "metadata": {},
     "output_type": "execute_result"
    }
   ],
   "source": [
    "from deepeval.metrics import GEval\n",
    "from deepeval.test_case import LLMTestCaseParams, LLMTestCase\n",
    " \n",
    "def joyfulness_score(trace):\n",
    "\t\tjoyfulness_metric = GEval(\n",
    "\t\t    name=\"Correctness\",\n",
    "\t\t    criteria=\"出力が魅力的で楽しいかどうかを判断する.\",\n",
    "\t\t    evaluation_params=[LLMTestCaseParams.ACTUAL_OUTPUT],\n",
    "\t\t)\n",
    "\t\ttest_case = LLMTestCase(\n",
    "    input=trace.input[\"args\"],\n",
    "    actual_output=trace.output)\n",
    " \n",
    "\t\tjoyfulness_metric.measure(test_case)\n",
    " \n",
    "\t\tprint(f\"Score: {joyfulness_metric.score}\")\n",
    "\t\tprint(f\"Reason: {joyfulness_metric.reason}\")\n",
    " \n",
    "\t\treturn {\"score\": joyfulness_metric.score, \"reason\": joyfulness_metric.reason}\n",
    " \n",
    "joyfulness_score(traces_batch[1])"
   ]
  },
  {
   "cell_type": "markdown",
   "metadata": {},
   "source": [
    "### 3. スコアをLangfuseにプッシュする"
   ]
  },
  {
   "cell_type": "code",
   "execution_count": 8,
   "metadata": {},
   "outputs": [
    {
     "data": {
      "text/html": [
       "<pre style=\"white-space:pre;overflow-x:auto;line-height:normal;font-family:Menlo,'DejaVu Sans Mono',consolas,'Courier New',monospace\">/Users/yoshidayasunori/Downloads/dev/LangChain_2/.venv/lib/python3.12/site-packages/rich/live.py:231: UserWarning: \n",
       "install \"ipywidgets\" for Jupyter support\n",
       "  warnings.warn('install \"ipywidgets\" for Jupyter support')\n",
       "</pre>\n"
      ],
      "text/plain": [
       "/Users/yoshidayasunori/Downloads/dev/LangChain_2/.venv/lib/python3.12/site-packages/rich/live.py:231: UserWarning: \n",
       "install \"ipywidgets\" for Jupyter support\n",
       "  warnings.warn('install \"ipywidgets\" for Jupyter support')\n"
      ]
     },
     "metadata": {},
     "output_type": "display_data"
    },
    {
     "data": {
      "text/html": [
       "<pre style=\"white-space:pre;overflow-x:auto;line-height:normal;font-family:Menlo,'DejaVu Sans Mono',consolas,'Courier New',monospace\">Event loop is already running. Applying nest_asyncio patch to allow async execution...\n",
       "</pre>\n"
      ],
      "text/plain": [
       "Event loop is already running. Applying nest_asyncio patch to allow async execution...\n"
      ]
     },
     "metadata": {},
     "output_type": "display_data"
    },
    {
     "data": {
      "text/html": [
       "<pre style=\"white-space:pre;overflow-x:auto;line-height:normal;font-family:Menlo,'DejaVu Sans Mono',consolas,'Courier New',monospace\">/Users/yoshidayasunori/Downloads/dev/LangChain_2/.venv/lib/python3.12/site-packages/rich/live.py:231: UserWarning: \n",
       "install \"ipywidgets\" for Jupyter support\n",
       "  warnings.warn('install \"ipywidgets\" for Jupyter support')\n",
       "</pre>\n"
      ],
      "text/plain": [
       "/Users/yoshidayasunori/Downloads/dev/LangChain_2/.venv/lib/python3.12/site-packages/rich/live.py:231: UserWarning: \n",
       "install \"ipywidgets\" for Jupyter support\n",
       "  warnings.warn('install \"ipywidgets\" for Jupyter support')\n"
      ]
     },
     "metadata": {},
     "output_type": "display_data"
    },
    {
     "data": {
      "text/html": [
       "<pre style=\"white-space:pre;overflow-x:auto;line-height:normal;font-family:Menlo,'DejaVu Sans Mono',consolas,'Courier New',monospace\">/Users/yoshidayasunori/Downloads/dev/LangChain_2/.venv/lib/python3.12/site-packages/rich/live.py:231: UserWarning: \n",
       "install \"ipywidgets\" for Jupyter support\n",
       "  warnings.warn('install \"ipywidgets\" for Jupyter support')\n",
       "</pre>\n"
      ],
      "text/plain": [
       "/Users/yoshidayasunori/Downloads/dev/LangChain_2/.venv/lib/python3.12/site-packages/rich/live.py:231: UserWarning: \n",
       "install \"ipywidgets\" for Jupyter support\n",
       "  warnings.warn('install \"ipywidgets\" for Jupyter support')\n"
      ]
     },
     "metadata": {},
     "output_type": "display_data"
    },
    {
     "data": {
      "text/html": [
       "<pre style=\"white-space:pre;overflow-x:auto;line-height:normal;font-family:Menlo,'DejaVu Sans Mono',consolas,'Courier New',monospace\"></pre>\n"
      ],
      "text/plain": []
     },
     "metadata": {},
     "output_type": "display_data"
    },
    {
     "data": {
      "text/html": [
       "<pre style=\"white-space:pre;overflow-x:auto;line-height:normal;font-family:Menlo,'DejaVu Sans Mono',consolas,'Courier New',monospace\">\n",
       "</pre>\n"
      ],
      "text/plain": [
       "\n"
      ]
     },
     "metadata": {},
     "output_type": "display_data"
    },
    {
     "data": {
      "text/html": [
       "<pre style=\"white-space:pre;overflow-x:auto;line-height:normal;font-family:Menlo,'DejaVu Sans Mono',consolas,'Courier New',monospace\">/Users/yoshidayasunori/Downloads/dev/LangChain_2/.venv/lib/python3.12/site-packages/rich/live.py:231: UserWarning: \n",
       "install \"ipywidgets\" for Jupyter support\n",
       "  warnings.warn('install \"ipywidgets\" for Jupyter support')\n",
       "</pre>\n"
      ],
      "text/plain": [
       "/Users/yoshidayasunori/Downloads/dev/LangChain_2/.venv/lib/python3.12/site-packages/rich/live.py:231: UserWarning: \n",
       "install \"ipywidgets\" for Jupyter support\n",
       "  warnings.warn('install \"ipywidgets\" for Jupyter support')\n"
      ]
     },
     "metadata": {},
     "output_type": "display_data"
    },
    {
     "data": {
      "text/html": [
       "<pre style=\"white-space:pre;overflow-x:auto;line-height:normal;font-family:Menlo,'DejaVu Sans Mono',consolas,'Courier New',monospace\">Event loop is already running. Applying nest_asyncio patch to allow async execution...\n",
       "</pre>\n"
      ],
      "text/plain": [
       "Event loop is already running. Applying nest_asyncio patch to allow async execution...\n"
      ]
     },
     "metadata": {},
     "output_type": "display_data"
    },
    {
     "data": {
      "text/html": [
       "<pre style=\"white-space:pre;overflow-x:auto;line-height:normal;font-family:Menlo,'DejaVu Sans Mono',consolas,'Courier New',monospace\">/Users/yoshidayasunori/Downloads/dev/LangChain_2/.venv/lib/python3.12/site-packages/rich/live.py:231: UserWarning: \n",
       "install \"ipywidgets\" for Jupyter support\n",
       "  warnings.warn('install \"ipywidgets\" for Jupyter support')\n",
       "</pre>\n"
      ],
      "text/plain": [
       "/Users/yoshidayasunori/Downloads/dev/LangChain_2/.venv/lib/python3.12/site-packages/rich/live.py:231: UserWarning: \n",
       "install \"ipywidgets\" for Jupyter support\n",
       "  warnings.warn('install \"ipywidgets\" for Jupyter support')\n"
      ]
     },
     "metadata": {},
     "output_type": "display_data"
    },
    {
     "name": "stdout",
     "output_type": "stream",
     "text": [
      "Score: 0.7429486221134627\n",
      "Reason: The output is visually and content-wise engaging with examples of animal adaptations like chameleons and penguins. It is interesting and informative, making it enjoyable for readers interested in nature.\n"
     ]
    },
    {
     "data": {
      "text/html": [
       "<pre style=\"white-space:pre;overflow-x:auto;line-height:normal;font-family:Menlo,'DejaVu Sans Mono',consolas,'Courier New',monospace\">/Users/yoshidayasunori/Downloads/dev/LangChain_2/.venv/lib/python3.12/site-packages/rich/live.py:231: UserWarning: \n",
       "install \"ipywidgets\" for Jupyter support\n",
       "  warnings.warn('install \"ipywidgets\" for Jupyter support')\n",
       "</pre>\n"
      ],
      "text/plain": [
       "/Users/yoshidayasunori/Downloads/dev/LangChain_2/.venv/lib/python3.12/site-packages/rich/live.py:231: UserWarning: \n",
       "install \"ipywidgets\" for Jupyter support\n",
       "  warnings.warn('install \"ipywidgets\" for Jupyter support')\n"
      ]
     },
     "metadata": {},
     "output_type": "display_data"
    },
    {
     "data": {
      "text/html": [
       "<pre style=\"white-space:pre;overflow-x:auto;line-height:normal;font-family:Menlo,'DejaVu Sans Mono',consolas,'Courier New',monospace\"></pre>\n"
      ],
      "text/plain": []
     },
     "metadata": {},
     "output_type": "display_data"
    },
    {
     "data": {
      "text/html": [
       "<pre style=\"white-space:pre;overflow-x:auto;line-height:normal;font-family:Menlo,'DejaVu Sans Mono',consolas,'Courier New',monospace\">\n",
       "</pre>\n"
      ],
      "text/plain": [
       "\n"
      ]
     },
     "metadata": {},
     "output_type": "display_data"
    },
    {
     "name": "stdout",
     "output_type": "stream",
     "text": [
      "Score: 0.7051072488020337\n",
      "Reason: The output is informative and somewhat engaging, discussing unique adaptations in nature. However, it lacks strong visual appeal and does not fully immerse the reader.\n"
     ]
    },
    {
     "data": {
      "text/plain": [
       "<langfuse.client.StatefulClient at 0x12e841340>"
      ]
     },
     "execution_count": 8,
     "metadata": {},
     "output_type": "execute_result"
    }
   ],
   "source": [
    "langfuse.score(\n",
    "    trace_id=traces_batch[1].id,\n",
    "    name=\"tone\",\n",
    "    value=joyfulness_score(traces_batch[1])[\"score\"],\n",
    "    comment=joyfulness_score(traces_batch[1])[\"reason\"]\n",
    ")"
   ]
  },
  {
   "cell_type": "markdown",
   "metadata": {},
   "source": [
    "### 4. すべてをまとめる"
   ]
  },
  {
   "cell_type": "code",
   "execution_count": 12,
   "metadata": {},
   "outputs": [
    {
     "name": "stdout",
     "output_type": "stream",
     "text": [
      "Batch 1 processed 🚀 \n",
      "\n",
      "Batch 2 processed 🚀 \n",
      "\n",
      "Batch 3 processed 🚀 \n",
      "\n",
      "Batch 4 processed 🚀 \n",
      "\n"
     ]
    }
   ],
   "source": [
    "import math\n",
    " \n",
    "for page_number in range(1, math.ceil(TOTAL_TRACES/BATCH_SIZE)):\n",
    " \n",
    "    traces_batch = langfuse.fetch_traces(\n",
    "        tags=\"ext_eval_pipelines\",\n",
    "        page=page_number,\n",
    "        from_timestamp=five_am_yesterday,\n",
    "        to_timestamp=five_am_today,\n",
    "        limit=BATCH_SIZE\n",
    "    ).data\n",
    " \n",
    "    for trace in traces_batch:\n",
    "        print(f\"Processing {trace.name}\")\n",
    " \n",
    "        if trace.output is None:\n",
    "            print(f\"Warning: \\n Trace {trace.name} had no generated output, \\\n",
    "            it was skipped\")\n",
    "            continue\n",
    " \n",
    "        langfuse.score(\n",
    "            trace_id=trace.id,\n",
    "            name=\"tone\",\n",
    "            value=tone_score(trace)\n",
    "        )\n",
    " \n",
    "        jscore = joyfulness_score(trace)\n",
    "        langfuse.score(\n",
    "            trace_id=trace.id,\n",
    "            name=\"joyfulness\",\n",
    "            value=jscore[\"score\"],\n",
    "            comment=jscore[\"reason\"]\n",
    "        )\n",
    " \n",
    "    print(f\"Batch {page_number} processed 🚀 \\n\")"
   ]
  }
 ],
 "metadata": {
  "kernelspec": {
   "display_name": ".venv",
   "language": "python",
   "name": "python3"
  },
  "language_info": {
   "codemirror_mode": {
    "name": "ipython",
    "version": 3
   },
   "file_extension": ".py",
   "mimetype": "text/x-python",
   "name": "python",
   "nbconvert_exporter": "python",
   "pygments_lexer": "ipython3",
   "version": "3.12.4"
  }
 },
 "nbformat": 4,
 "nbformat_minor": 2
}
