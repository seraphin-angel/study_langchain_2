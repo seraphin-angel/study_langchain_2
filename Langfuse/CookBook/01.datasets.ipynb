{
 "cells": [
  {
   "cell_type": "code",
   "execution_count": 15,
   "metadata": {},
   "outputs": [
    {
     "data": {
      "text/plain": [
       "True"
      ]
     },
     "execution_count": 15,
     "metadata": {},
     "output_type": "execute_result"
    }
   ],
   "source": [
    "from dotenv import load_dotenv\n",
    "\n",
    "load_dotenv()"
   ]
  },
  {
   "cell_type": "code",
   "execution_count": 16,
   "metadata": {},
   "outputs": [],
   "source": [
    "# import\n",
    "from langfuse import Langfuse\n",
    "import openai\n",
    " \n",
    "# init\n",
    "langfuse = Langfuse()"
   ]
  },
  {
   "cell_type": "code",
   "execution_count": 17,
   "metadata": {},
   "outputs": [],
   "source": [
    "langfuse.create_dataset(name=\"capital_cities\");"
   ]
  },
  {
   "cell_type": "code",
   "execution_count": 18,
   "metadata": {},
   "outputs": [],
   "source": [
    "# example items, could also be json instead of strings\n",
    "local_items = [\n",
    "    {\"input\": {\"country\": \"Italy\"}, \"expected_output\": \"Rome\"},\n",
    "    {\"input\": {\"country\": \"Spain\"}, \"expected_output\": \"Madrid\"},\n",
    "    {\"input\": {\"country\": \"Brazil\"}, \"expected_output\": \"Brasília\"},\n",
    "    {\"input\": {\"country\": \"Japan\"}, \"expected_output\": \"Tokyo\"},\n",
    "    {\"input\": {\"country\": \"India\"}, \"expected_output\": \"New Delhi\"},\n",
    "    {\"input\": {\"country\": \"Canada\"}, \"expected_output\": \"Ottawa\"},\n",
    "    {\"input\": {\"country\": \"South Korea\"}, \"expected_output\": \"Seoul\"},\n",
    "    {\"input\": {\"country\": \"Argentina\"}, \"expected_output\": \"Buenos Aires\"},\n",
    "    {\"input\": {\"country\": \"South Africa\"}, \"expected_output\": \"Pretoria\"},\n",
    "    {\"input\": {\"country\": \"Egypt\"}, \"expected_output\": \"Cairo\"},\n",
    "]"
   ]
  },
  {
   "cell_type": "code",
   "execution_count": 19,
   "metadata": {},
   "outputs": [
    {
     "data": {
      "text/plain": [
       "[{'input': {'country': 'Italy'}, 'expected_output': 'Rome'},\n",
       " {'input': {'country': 'Spain'}, 'expected_output': 'Madrid'},\n",
       " {'input': {'country': 'Brazil'}, 'expected_output': 'Brasília'},\n",
       " {'input': {'country': 'Japan'}, 'expected_output': 'Tokyo'},\n",
       " {'input': {'country': 'India'}, 'expected_output': 'New Delhi'},\n",
       " {'input': {'country': 'Canada'}, 'expected_output': 'Ottawa'},\n",
       " {'input': {'country': 'South Korea'}, 'expected_output': 'Seoul'},\n",
       " {'input': {'country': 'Argentina'}, 'expected_output': 'Buenos Aires'},\n",
       " {'input': {'country': 'South Africa'}, 'expected_output': 'Pretoria'},\n",
       " {'input': {'country': 'Egypt'}, 'expected_output': 'Cairo'}]"
      ]
     },
     "execution_count": 19,
     "metadata": {},
     "output_type": "execute_result"
    }
   ],
   "source": [
    "local_items"
   ]
  },
  {
   "cell_type": "code",
   "execution_count": 20,
   "metadata": {},
   "outputs": [],
   "source": [
    "# Upload to Langfuse\n",
    "for item in local_items:\n",
    "  langfuse.create_dataset_item(\n",
    "      dataset_name=\"capital_cities\",\n",
    "      # any python object or value\n",
    "      input=item[\"input\"],\n",
    "      # any python object or value, optional\n",
    "      expected_output=item[\"expected_output\"]\n",
    ")"
   ]
  },
  {
   "cell_type": "markdown",
   "metadata": {},
   "source": [
    "### アプリケーションを定義し、実験を実行する"
   ]
  },
  {
   "cell_type": "code",
   "execution_count": 21,
   "metadata": {},
   "outputs": [],
   "source": [
    "# we use a very simple eval here, you can use any eval library\n",
    "# see https://langfuse.com/docs/scores/model-based-evals for details\n",
    "def simple_evaluation(output, expected_output):\n",
    "  return output == expected_output"
   ]
  },
  {
   "cell_type": "markdown",
   "metadata": {},
   "source": [
    "カスタムアプリ"
   ]
  },
  {
   "cell_type": "code",
   "execution_count": 22,
   "metadata": {},
   "outputs": [],
   "source": [
    "from datetime import datetime\n",
    " \n",
    "def run_my_custom_llm_app(input, system_prompt):\n",
    "  messages = [\n",
    "      {\"role\":\"system\", \"content\": system_prompt},\n",
    "      {\"role\":\"user\", \"content\": input[\"country\"]}\n",
    "  ]\n",
    " \n",
    "  generationStartTime = datetime.now()\n",
    " \n",
    "  openai_completion = openai.chat.completions.create(\n",
    "      model=\"gpt-4o-mini\",\n",
    "      messages=messages\n",
    "  ).choices[0].message.content\n",
    " \n",
    "  langfuse_generation = langfuse.generation(\n",
    "    name=\"guess-countries\",\n",
    "    input=messages,\n",
    "    output=openai_completion,\n",
    "    model=\"gpt-4o-mini\",\n",
    "    start_time=generationStartTime,\n",
    "    end_time=datetime.now()\n",
    "  )\n",
    " \n",
    "  return openai_completion, langfuse_generation"
   ]
  },
  {
   "cell_type": "code",
   "execution_count": 23,
   "metadata": {},
   "outputs": [],
   "source": [
    "def run_experiment(experiment_name, system_prompt):\n",
    "  dataset = langfuse.get_dataset(\"capital_cities\")\n",
    " \n",
    "  for item in dataset.items:\n",
    "    completion, langfuse_generation = run_my_custom_llm_app(item.input, system_prompt)\n",
    " \n",
    "    item.link(langfuse_generation, experiment_name) # pass the observation/generation object or the id\n",
    " \n",
    "    langfuse_generation.score(\n",
    "      name=\"exact_match\",\n",
    "      value=simple_evaluation(completion, item.expected_output)\n",
    "    )"
   ]
  },
  {
   "cell_type": "code",
   "execution_count": 24,
   "metadata": {},
   "outputs": [],
   "source": [
    "run_experiment(\n",
    "    \"famous_city\",\n",
    "    \"ユーザーは国名を入力し、その国で最も有名な都市名を回答する。\"\n",
    ")\n",
    "run_experiment(\n",
    "    \"directly_ask\",\n",
    "    \"次の国の首都はどこですか??\"\n",
    ")\n",
    "run_experiment(\n",
    "    \"asking_specifically\",\n",
    "    \"ユーザーは国名を入力し、首都名のみで応答する\"\n",
    ")\n",
    "run_experiment(\n",
    "    \"asking_specifically_2nd_try\",\n",
    "    \"ユーザーは国名を入力し、首都名のみで回答します。州名は都市名のみを記載します。.\"\n",
    ")"
   ]
  },
  {
   "cell_type": "markdown",
   "metadata": {},
   "source": [
    "Langchainアプリケーション"
   ]
  },
  {
   "cell_type": "code",
   "execution_count": 25,
   "metadata": {},
   "outputs": [],
   "source": [
    "from langchain_openai import ChatOpenAI\n",
    "from langchain.prompts import ChatPromptTemplate\n",
    "from langchain_core.prompts import ChatPromptTemplate, MessagesPlaceholder\n",
    "from langchain_core.messages import HumanMessage\n",
    " \n",
    "def run_my_langchain_llm_app(input, system_message, callback_handler):\n",
    "  prompt = ChatPromptTemplate.from_messages(\n",
    "    [\n",
    "        (\n",
    "            \"system\",\n",
    "            system_message,\n",
    "        ),\n",
    "        MessagesPlaceholder(variable_name=\"messages\"),\n",
    "    ]\n",
    "  )\n",
    "  chat = ChatOpenAI(model=\"gpt-4o-mini\")\n",
    "  chain = prompt | chat\n",
    " \n",
    "  res = chain.invoke(\n",
    "    { \"messages\": [HumanMessage(content=input)] },\n",
    "    config={\"callbacks\":[callback_handler]}\n",
    "  )\n",
    "  \n",
    "  return res"
   ]
  },
  {
   "cell_type": "code",
   "execution_count": 26,
   "metadata": {},
   "outputs": [],
   "source": [
    "def run_langchain_experiment(experiment_name, system_message):\n",
    "  dataset = langfuse.get_dataset(\"capital_cities\")\n",
    " \n",
    "  for item in dataset.items:\n",
    "    handler = item.get_langchain_handler(run_name=experiment_name)\n",
    " \n",
    "    completion = run_my_langchain_llm_app(item.input[\"country\"], system_message, handler)\n",
    " \n",
    "    handler.trace.score(\n",
    "      name=\"exact_match\",\n",
    "      value=simple_evaluation(completion, item.expected_output)\n",
    "    )"
   ]
  },
  {
   "cell_type": "code",
   "execution_count": 28,
   "metadata": {},
   "outputs": [],
   "source": [
    "run_langchain_experiment(\n",
    "    \"langchain_famous_city\",\n",
    "    \"The user will input countries, respond with the most famous city in this country\"\n",
    ")\n",
    "run_langchain_experiment(\n",
    "    \"langchain_directly_ask\",\n",
    "    \"What is the capital of the following country?\"\n",
    ")\n",
    "run_langchain_experiment(\n",
    "    \"langchain_asking_specifically\",\n",
    "    \"The user will input countries, respond with only the name of the capital\"\n",
    ")\n",
    "run_langchain_experiment(\n",
    "    \"langchain_asking_specifically_2nd_try\",\n",
    "    \"The user will input countries, respond with only the name of the capital. State only the name of the city.\"\n",
    ")"
   ]
  },
  {
   "cell_type": "markdown",
   "metadata": {},
   "source": []
  }
 ],
 "metadata": {
  "kernelspec": {
   "display_name": ".venv",
   "language": "python",
   "name": "python3"
  },
  "language_info": {
   "codemirror_mode": {
    "name": "ipython",
    "version": 3
   },
   "file_extension": ".py",
   "mimetype": "text/x-python",
   "name": "python",
   "nbconvert_exporter": "python",
   "pygments_lexer": "ipython3",
   "version": "3.12.4"
  }
 },
 "nbformat": 4,
 "nbformat_minor": 2
}
