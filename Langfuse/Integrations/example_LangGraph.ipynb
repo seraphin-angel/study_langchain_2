{
 "cells": [
  {
   "cell_type": "markdown",
   "metadata": {},
   "source": [
    "クックブック: LangGraph 統合\n",
    "\n",
    "https://langfuse.com/docs/integrations/langchain/example-python-langgraph"
   ]
  },
  {
   "cell_type": "code",
   "execution_count": 1,
   "metadata": {},
   "outputs": [
    {
     "data": {
      "text/plain": [
       "True"
      ]
     },
     "execution_count": 1,
     "metadata": {},
     "output_type": "execute_result"
    }
   ],
   "source": [
    "from dotenv import load_dotenv\n",
    "\n",
    "load_dotenv()"
   ]
  },
  {
   "cell_type": "markdown",
   "metadata": {},
   "source": [
    "### Example 1: Simple chat app with LangGraph"
   ]
  },
  {
   "cell_type": "code",
   "execution_count": 2,
   "metadata": {},
   "outputs": [],
   "source": [
    "from typing import Annotated\n",
    " \n",
    "from langchain_openai import ChatOpenAI\n",
    "from langchain_core.messages import HumanMessage\n",
    "from typing_extensions import TypedDict\n",
    " \n",
    "from langgraph.graph import StateGraph\n",
    "from langgraph.graph.message import add_messages\n",
    " \n",
    "class State(TypedDict):\n",
    "    # Messages have the type \"list\". The `add_messages` function in the annotation defines how this state key should be updated\n",
    "    # (in this case, it appends messages to the list, rather than overwriting them)\n",
    "    messages: Annotated[list, add_messages]\n",
    " \n",
    "graph_builder = StateGraph(State)\n",
    " \n",
    "llm = ChatOpenAI(model = \"gpt-4o-mini\", temperature = 0)\n",
    " \n",
    "# チャットボットノード機能は、現在のステートを入力として受け取り、更新されたメッセージリストを返します。これは、すべてのLangGraphノード機能の基本的なパターンです。\n",
    "def chatbot(state: State):\n",
    "    return {\"messages\": [llm.invoke(state[\"messages\"])]}\n",
    " \n",
    "# 「チャットボット」ノードを追加します。ノードは作業単位を表します。通常は通常のPython関数です\n",
    "graph_builder.add_node(\"chatbot\", chatbot)\n",
    " \n",
    "# エントリーポイントを追加します。これにより、実行するたびにグラフの作業を開始する場所を指定します\n",
    "graph_builder.set_entry_point(\"chatbot\")\n",
    " \n",
    "# 終了点を設定します。これにより、グラフに「このノードが実行されるたびに終了できる」と指示します\n",
    "graph_builder.set_finish_point(\"chatbot\")\n",
    " \n",
    "# グラフを実行できるようにするには、グラフビルダーで「compile()」を呼び出します。これにより、「CompiledGraph」が作成され、状態に対して「invoke」を使用できるようになります\n",
    "graph = graph_builder.compile()"
   ]
  },
  {
   "cell_type": "code",
   "execution_count": 3,
   "metadata": {},
   "outputs": [
    {
     "data": {
      "image/jpeg": "[encoded data removed]",
      "text/plain": [
       "<IPython.core.display.Image object>"
      ]
     },
     "metadata": {},
     "output_type": "display_data"
    }
   ],
   "source": [
    "from IPython.display import Image, display\n",
    "\n",
    "try:\n",
    "    display(Image(graph.get_graph().draw_mermaid_png()))\n",
    "except Exception:\n",
    "    # This requires some extra dependencies and is optional\n",
    "    pass"
   ]
  },
  {
   "cell_type": "markdown",
   "metadata": {},
   "source": [
    "呼び出しのコールバックとしてLangfuseを追加する"
   ]
  },
  {
   "cell_type": "code",
   "execution_count": 4,
   "metadata": {},
   "outputs": [
    {
     "name": "stdout",
     "output_type": "stream",
     "text": [
      "{'chatbot': {'messages': [AIMessage(content='Langfuseは、主に言語モデルや自然言語処理（NLP）に関連するアプリケーションやサービスを提供するプラットフォームやツールの一つです。具体的には、開発者や企業が自社のアプリケーションに言語モデルを統合し、ユーザーとのインタラクションを向上させるための機能を提供します。\\n\\nLangfuseの主な機能には、以下のようなものがあります：\\n\\n1. **トラッキングと分析**: ユーザーのインタラクションを追跡し、どのように言語モデルが使用されているかを分析する機能。\\n2. **フィードバック収集**: ユーザーからのフィードバックを収集し、モデルの改善に役立てることができる。\\n3. **カスタマイズ**: 特定のニーズに応じて言語モデルをカスタマイズするためのツール。\\n\\nLangfuseは、企業が言語モデルを効果的に活用し、ユーザー体験を向上させるための支援を行うことを目的としています。具体的な機能やサービス内容は、公式ウェブサイトやドキュメントを参照することで詳細に確認できます。', additional_kwargs={'refusal': None}, response_metadata={'token_usage': {'completion_tokens': 293, 'prompt_tokens': 15, 'total_tokens': 308}, 'model_name': 'gpt-4o-mini-2024-07-18', 'system_fingerprint': 'fp_48196bc67a', 'finish_reason': 'stop', 'logprobs': None}, id='run-836c2f12-035a-4d33-a501-a26bdc3617f9-0', usage_metadata={'input_tokens': 15, 'output_tokens': 293, 'total_tokens': 308})]}}\n"
     ]
    }
   ],
   "source": [
    "from langfuse.callback import CallbackHandler\n",
    " \n",
    "# Langchain(トレース)用のLangfuse CallbackHandlerを初期化する\n",
    "langfuse_handler = CallbackHandler(\n",
    "    user_id=\"user-1234\",\n",
    "    session_id=\"session-1234\",\n",
    "    trace_name=\"LangGraph\",\n",
    "    tags=[\"langchain\", \"langgraph\"]\n",
    ")\n",
    " \n",
    "for s in graph.stream({\"messages\": [HumanMessage(content = \"Langfuseとは何ですか?\")]},\n",
    "                      config={\"callbacks\": [langfuse_handler]}):\n",
    "    print(s)"
   ]
  },
  {
   "cell_type": "markdown",
   "metadata": {},
   "source": [
    "### 例 2: LangGraph を使用したマルチエージェント アプリケーション"
   ]
  },
  {
   "cell_type": "markdown",
   "metadata": {},
   "source": [
    "ツールを作成する"
   ]
  },
  {
   "cell_type": "code",
   "execution_count": 5,
   "metadata": {},
   "outputs": [],
   "source": [
    "from typing import Annotated\n",
    " \n",
    "from langchain_community.tools import WikipediaQueryRun\n",
    "from langchain_community.utilities import WikipediaAPIWrapper\n",
    "from datetime import datetime\n",
    "from langchain.tools import Tool\n",
    " \n",
    "# ウィキペディアを検索するツールを定義する\n",
    "wikipedia_tool = WikipediaQueryRun(api_wrapper=WikipediaAPIWrapper())\n",
    " \n",
    "# 現在の日時を返す新しいツールを定義する\n",
    "datetime_tool = Tool(\n",
    "    name=\"Datetime\",\n",
    "    func = lambda x: datetime.now().isoformat(),\n",
    "    description=\"Returns the current datetime\",\n",
    ")"
   ]
  },
  {
   "cell_type": "markdown",
   "metadata": {},
   "source": [
    "ヘルパーユーティリティ"
   ]
  },
  {
   "cell_type": "code",
   "execution_count": 6,
   "metadata": {},
   "outputs": [],
   "source": [
    "from langchain.agents import AgentExecutor, create_openai_tools_agent\n",
    "from langchain_core.messages import BaseMessage, HumanMessage\n",
    "from langchain_openai import ChatOpenAI\n",
    "from langchain_core.prompts import ChatPromptTemplate, MessagesPlaceholder\n",
    "\n",
    "def create_agent(llm: ChatOpenAI, system_prompt: str, tools: list):\n",
    "    # Each worker node will be given a name and some tools.\n",
    "    prompt = ChatPromptTemplate.from_messages(\n",
    "        [\n",
    "            (\n",
    "                \"system\",\n",
    "                system_prompt,\n",
    "            ),\n",
    "            MessagesPlaceholder(variable_name=\"messages\"),\n",
    "            MessagesPlaceholder(variable_name=\"agent_scratchpad\"),\n",
    "        ]\n",
    "    )\n",
    "    agent = create_openai_tools_agent(llm, tools, prompt)\n",
    "    executor = AgentExecutor(agent=agent, tools=tools)\n",
    "    return executor\n",
    " \n",
    "def agent_node(state, agent, name):\n",
    "    result = agent.invoke(state)\n",
    "    return {\"messages\": [HumanMessage(content=result[\"output\"], name=name)]}"
   ]
  },
  {
   "cell_type": "markdown",
   "metadata": {},
   "source": [
    "エージェントスーパーバイザーの作成"
   ]
  },
  {
   "cell_type": "code",
   "execution_count": 7,
   "metadata": {},
   "outputs": [],
   "source": [
    "from langchain_core.output_parsers.openai_functions import JsonOutputFunctionsParser\n",
    "from langchain_core.prompts import ChatPromptTemplate, MessagesPlaceholder\n",
    " \n",
    "members = [\"Researcher\", \"CurrentTime\"]\n",
    "system_prompt = (\n",
    "    \"You are a supervisor tasked with managing a conversation between the\"\n",
    "    \" following workers:  {members}. Given the following user request,\"\n",
    "    \" respond with the worker to act next. Each worker will perform a\"\n",
    "    \" task and respond with their results and status. When finished,\"\n",
    "    \" respond with FINISH.\"\n",
    ")\n",
    "# 私たちのチームのスーパーバイザーはLLMノードです。次の処理対象のエージェントを選択し、作業が完了したかどうかを判断します。\n",
    "options = [\"FINISH\"] + members\n",
    " \n",
    "# openaiの関数呼び出しを使用すると、出力の解析が容易になります。\n",
    "function_def = {\n",
    "    \"name\": \"route\",\n",
    "    \"description\": \"Select the next role.\",\n",
    "    \"parameters\": {\n",
    "        \"title\": \"routeSchema\",\n",
    "        \"type\": \"object\",\n",
    "        \"properties\": {\n",
    "            \"next\": {\n",
    "                \"title\": \"Next\",\n",
    "                \"anyOf\": [\n",
    "                    {\"enum\": options},\n",
    "                ],\n",
    "            }\n",
    "        },\n",
    "        \"required\": [\"next\"],\n",
    "    },\n",
    "}\n",
    " \n",
    "# Create the prompt using ChatPromptTemplate\n",
    "prompt = ChatPromptTemplate.from_messages(\n",
    "    [\n",
    "        (\"system\", system_prompt),\n",
    "        MessagesPlaceholder(variable_name=\"messages\"),\n",
    "        (\n",
    "            \"system\",\n",
    "            \"Given the conversation above, who should act next?\"\n",
    "            \" Or should we FINISH? Select one of: {options}\",\n",
    "        ),\n",
    "    ]\n",
    ").partial(options=str(options), members=\", \".join(members))\n",
    " \n",
    "llm = ChatOpenAI(model=\"gpt-4o-mini\", temperature=0)\n",
    " \n",
    "# Construction of the chain for the supervisor agent\n",
    "supervisor_chain = (\n",
    "    prompt\n",
    "    | llm.bind_functions(functions=[function_def], function_call=\"route\")\n",
    "    | JsonOutputFunctionsParser()\n",
    ")"
   ]
  },
  {
   "cell_type": "markdown",
   "metadata": {},
   "source": [
    "グラフを構築する"
   ]
  },
  {
   "cell_type": "code",
   "execution_count": 8,
   "metadata": {},
   "outputs": [],
   "source": [
    "import functools\n",
    "import operator\n",
    "from typing import Sequence, TypedDict\n",
    "from langchain_core.prompts import ChatPromptTemplate, MessagesPlaceholder\n",
    "from langgraph.graph import END, StateGraph, START\n",
    " \n",
    "# The agent state is the input to each node in the graph\n",
    "class AgentState(TypedDict):\n",
    "    # The annotation tells the graph that new messages will always be added to the current states\n",
    "    messages: Annotated[Sequence[BaseMessage], operator.add]\n",
    "    # The 'next' field indicates where to route to next\n",
    "    next: str\n",
    " \n",
    "# Add the research agent using the create_agent helper function\n",
    "research_agent = create_agent(llm, \"You are a web researcher.\", [wikipedia_tool])\n",
    "research_node = functools.partial(agent_node, agent=research_agent, name=\"Researcher\")\n",
    " \n",
    "# Add the time agent using the create_agent helper function\n",
    "currenttime_agent = create_agent(llm, \"You can tell the current time at\", [datetime_tool])\n",
    "currenttime_node = functools.partial(agent_node, agent=currenttime_agent, name = \"CurrentTime\")\n",
    " \n",
    "workflow = StateGraph(AgentState)\n",
    " \n",
    "# Add a \"chatbot\" node. Nodes represent units of work. They are typically regular python functions.\n",
    "workflow.add_node(\"Researcher\", research_node)\n",
    "workflow.add_node(\"CurrentTime\", currenttime_node)\n",
    "workflow.add_node(\"supervisor\", supervisor_chain)\n",
    " \n",
    "# We want our workers to ALWAYS \"report back\" to the supervisor when done\n",
    "for member in members:\n",
    "    workflow.add_edge(member, \"supervisor\")\n",
    " \n",
    "# Conditional edges usually contain \"if\" statements to route to different nodes depending on the current graph state.\n",
    "# These functions receive the current graph state and return a string or list of strings indicating which node(s) to call next.\n",
    "conditional_map = {k: k for k in members}\n",
    "conditional_map[\"FINISH\"] = END\n",
    "workflow.add_conditional_edges(\"supervisor\", lambda x: x[\"next\"], conditional_map)\n",
    " \n",
    "# Add an entry point. This tells our graph where to start its work each time we run it.\n",
    "workflow.add_edge(START, \"supervisor\")\n",
    " \n",
    "# To be able to run our graph, call \"compile()\" on the graph builder. This creates a \"CompiledGraph\" we can use invoke on our state.\n",
    "graph_2 = workflow.compile()"
   ]
  },
  {
   "cell_type": "markdown",
   "metadata": {},
   "source": [
    "呼び出しのコールバックとしてLangfuseを追加する"
   ]
  },
  {
   "cell_type": "code",
   "execution_count": 9,
   "metadata": {},
   "outputs": [
    {
     "data": {
      "image/jpeg": "[encoded data removed]",
      "text/plain": [
       "<IPython.core.display.Image object>"
      ]
     },
     "metadata": {},
     "output_type": "display_data"
    }
   ],
   "source": [
    "from IPython.display import Image, display\n",
    "\n",
    "try:\n",
    "    display(Image(graph_2.get_graph().draw_mermaid_png()))\n",
    "except Exception:\n",
    "    # This requires some extra dependencies and is optional\n",
    "    pass"
   ]
  },
  {
   "cell_type": "markdown",
   "metadata": {},
   "source": [
    "呼び出しのコールバックとしてLangfuseを追加する"
   ]
  },
  {
   "cell_type": "code",
   "execution_count": 10,
   "metadata": {},
   "outputs": [
    {
     "name": "stdout",
     "output_type": "stream",
     "text": [
      "{'supervisor': {'next': 'Researcher'}}\n",
      "----\n",
      "{'Researcher': {'messages': [HumanMessage(content='光合成は、光合成生物（主に植物、藻類、シアノバクテリアなど）が光エネルギーを化学エネルギーに変換する生物学的プロセスです。このプロセスは通常、酸素を生成する酸素性光合成を指します。\\n\\n### 光合成のしくみ\\n\\n1. **光エネルギーの吸収**:\\n   - 光合成は、光合成色素（植物ではクロロフィル）を含む反応中心で始まります。これらの色素は、主に葉の細胞内の葉緑体に存在します。\\n   - 光エネルギーが吸収されると、水などの適切な物質から電子が取り除かれ、酸素ガスが生成されます。\\n\\n2. **ATPとNADPHの生成**:\\n   - 水の分解によって放出された水素は、エネルギー生成に関与する重要な分子であるNADPHとATPの生成に使用されます。\\n\\n3. **カルビン回路**:\\n   - 光合成の次の段階では、カルビン回路と呼ばれる光非依存反応が行われます。この過程では、大気中の二酸化炭素が既存の有機化合物（例：リブロースビスリン酸）に取り込まれます。\\n   - ATPとNADPHを使用して、生成された化合物が還元され、グルコースなどの炭水化物が形成されます。\\n\\n### 光合成の重要性\\n- 光合成は地球の酸素供給に重要な役割を果たし、複雑な生命の進化を可能にしました。\\n- また、光合成は気候プロセスにも重要で、二酸化炭素を吸収し、植物や土壌に固定します。\\n\\n光合成は1779年にヤン・インゲンハウスによって発見され、植物が光を必要とすることが示されました。', name='Researcher')]}}\n",
      "----\n",
      "{'supervisor': {'next': 'FINISH'}}\n",
      "----\n"
     ]
    }
   ],
   "source": [
    "from langfuse.callback import CallbackHandler\n",
    " \n",
    "# Initialize Langfuse CallbackHandler for Langchain (tracing)\n",
    "langfuse_handler = CallbackHandler(\n",
    "    user_id=\"user-1234-1\",\n",
    "    session_id=\"session-1234-1\",\n",
    "    trace_name=\"LangGraph-02\",\n",
    "    tags=[\"langchain\", \"langgraph\"]\n",
    ")\n",
    " \n",
    "# Add Langfuse handler as callback: config={\"callbacks\": [langfuse_handler]}\n",
    "for s in graph_2.stream({\"messages\": [HumanMessage(content = \"光合成のしくみを教えて\")]},\n",
    "                      config={\"callbacks\": [langfuse_handler]}):\n",
    "    print(s)\n",
    "    print(\"----\")"
   ]
  },
  {
   "cell_type": "code",
   "execution_count": 11,
   "metadata": {},
   "outputs": [
    {
     "name": "stdout",
     "output_type": "stream",
     "text": [
      "{'supervisor': {'next': 'CurrentTime'}}\n",
      "----\n",
      "{'CurrentTime': {'messages': [HumanMessage(content='現在の時刻は2024年8月25日 17時28分です。', name='CurrentTime')]}}\n",
      "----\n",
      "{'supervisor': {'next': 'FINISH'}}\n",
      "----\n"
     ]
    }
   ],
   "source": [
    "# Add Langfuse handler as callback: config={\"callbacks\": [langfuse_handler]}\n",
    "for s in graph_2.stream({\"messages\": [HumanMessage(content = \"現在時刻を教えて！\")]},\n",
    "                      config={\"callbacks\": [langfuse_handler]}):\n",
    "    print(s)\n",
    "    print(\"----\")"
   ]
  },
  {
   "cell_type": "markdown",
   "metadata": {},
   "source": [
    "### トレースにスコアとしてスコアを追加する"
   ]
  },
  {
   "cell_type": "code",
   "execution_count": 15,
   "metadata": {},
   "outputs": [
    {
     "data": {
      "text/plain": [
       "{'messages': [HumanMessage(content='現在時刻を教えて！'),\n",
       "  HumanMessage(content='現在の時刻は2024年8月25日 17時38分41秒です。', name='CurrentTime')],\n",
       " 'next': 'FINISH'}"
      ]
     },
     "execution_count": 15,
     "metadata": {},
     "output_type": "execute_result"
    }
   ],
   "source": [
    "from langfuse.decorators import langfuse_context, observe\n",
    " \n",
    "# Langfuse observe() decorator to automatically create a trace for the top-level function and spans for any nested functions.\n",
    "@observe()\n",
    "def research_agent(user_message):\n",
    "    # Get callback handler scoped to this observed function\n",
    "    lf_handler = langfuse_context.get_current_langchain_handler()\n",
    " \n",
    "    # Trace langchain run via the Langfuse CallbackHandler\n",
    "    response = graph_2.invoke({\"messages\": [HumanMessage(content=user_message)]},\n",
    "                        config={\"callbacks\": [lf_handler]})\n",
    " \n",
    "    # トレース全体にスコアを付ける(例:ユーザーフィードバックを追加する)\n",
    "    langfuse_context.score_current_trace(\n",
    "        name = \"user-explicit-feedback\",\n",
    "        value = 1,\n",
    "        comment = \"The time is correct!\"\n",
    "        )\n",
    " \n",
    "    return response\n",
    "research_agent(\"現在時刻を教えて！\")"
   ]
  },
  {
   "cell_type": "markdown",
   "metadata": {},
   "source": [
    "Langfuse でスコア付きのトレースを表示する"
   ]
  },
  {
   "cell_type": "markdown",
   "metadata": {},
   "source": [
    "### Langfuseでプロンプトを管理する"
   ]
  },
  {
   "cell_type": "code",
   "execution_count": 16,
   "metadata": {},
   "outputs": [
    {
     "data": {
      "text/plain": [
       "<langfuse.model.TextPromptClient at 0x11938a900>"
      ]
     },
     "execution_count": 16,
     "metadata": {},
     "output_type": "execute_result"
    }
   ],
   "source": [
    "from langfuse import Langfuse\n",
    " \n",
    "# Initialize Langfuse client (prompt management)\n",
    "langfuse = Langfuse()\n",
    " \n",
    "langfuse.create_prompt(\n",
    "    name=\"translator_system-prompt-001\",\n",
    "    prompt=\"You are a translator that translates every input text into japanese.\",\n",
    "    labels=[\"production\"]\n",
    ")"
   ]
  }
 ],
 "metadata": {
  "kernelspec": {
   "display_name": ".venv",
   "language": "python",
   "name": "python3"
  },
  "language_info": {
   "codemirror_mode": {
    "name": "ipython",
    "version": 3
   },
   "file_extension": ".py",
   "mimetype": "text/x-python",
   "name": "python",
   "nbconvert_exporter": "python",
   "pygments_lexer": "ipython3",
   "version": "3.12.4"
  }
 },
 "nbformat": 4,
 "nbformat_minor": 2
}
