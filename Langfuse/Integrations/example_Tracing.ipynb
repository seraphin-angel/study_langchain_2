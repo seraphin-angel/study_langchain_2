{
 "cells": [
  {
   "cell_type": "markdown",
   "metadata": {},
   "source": [
    "https://langfuse.com/docs/integrations/langchain/tracing"
   ]
  },
  {
   "cell_type": "code",
   "execution_count": 1,
   "metadata": {},
   "outputs": [
    {
     "data": {
      "text/plain": [
       "True"
      ]
     },
     "execution_count": 1,
     "metadata": {},
     "output_type": "execute_result"
    }
   ],
   "source": [
    "from dotenv import load_dotenv\n",
    "\n",
    "load_dotenv()"
   ]
  },
  {
   "cell_type": "code",
   "execution_count": 2,
   "metadata": {},
   "outputs": [],
   "source": [
    "from langfuse.decorators import langfuse_context, observe\n",
    "from langchain_openai import ChatOpenAI\n",
    "from langchain_core.messages import HumanMessage, SystemMessage\n",
    "\n",
    "# Create a trace via Langfuse decorators and get a Langchain Callback handler for it\n",
    "@observe() # automtically log function as a trace to Langfuse\n",
    "def main():\n",
    "    # update trace attributes (e.g, name, session_id, user_id)\n",
    "    langfuse_context.update_current_trace(\n",
    "        name=\"custom-trace\",\n",
    "        session_id=\"user-1234\",\n",
    "        user_id=\"session-1234\",\n",
    "    )\n",
    "    # get the langchain handler for the current trace\n",
    "    langfuse_handler = langfuse_context.get_current_langchain_handler()\n",
    " \n",
    "    # Your Langchain code\n",
    "    model = ChatOpenAI(model=\"gpt-4o-mini\", temperature=0)\n",
    "    messages = [\n",
    "        HumanMessage(content=\"こんにちわ！\"),\n",
    "    ]\n",
    "\n",
    "    # model.invoke(messages)\n",
    "    # Add Langfuse handler as callback (classic and LCEL)\n",
    "    model.invoke(messages, config={\"callbacks\": [langfuse_handler]})\n",
    " \n",
    "main()"
   ]
  },
  {
   "cell_type": "code",
   "execution_count": 3,
   "metadata": {},
   "outputs": [],
   "source": [
    "from langfuse.decorators import langfuse_context, observe\n",
    "from langchain_openai import ChatOpenAI\n",
    "from langchain_core.messages import HumanMessage, SystemMessage\n",
    "from langfuse.callback import CallbackHandler\n",
    "\n",
    "# Create a trace via Langfuse decorators and get a Langchain Callback handler for it\n",
    "# @observe() # automtically log function as a trace to Langfuse\n",
    "def main():\n",
    "    # update trace attributes (e.g, name, session_id, user_id)\n",
    "    # langfuse_context.update_current_trace(\n",
    "    #     name=\"custom-trace\",\n",
    "    #     session_id=\"user-1234\",\n",
    "    #     user_id=\"session-1234\",\n",
    "    # )\n",
    "    # get the langchain handler for the current trace\n",
    "    # langfuse_handler = langfuse_context.get_current_langchain_handler()\n",
    "    langfuse_handler = CallbackHandler(\n",
    "        trace_name=\"custom-trace9876\",\n",
    "        session_id=\"user-1234\",\n",
    "        user_id=\"session-1234\",\n",
    "    )\n",
    "\n",
    "    # Your Langchain code\n",
    "    model = ChatOpenAI(model=\"gpt-4o-mini\", temperature=0)\n",
    "    messages = [\n",
    "        HumanMessage(content=\"こんにちわ！\"),\n",
    "    ]\n",
    "\n",
    "    # model.invoke(messages)\n",
    "    # Add Langfuse handler as callback (classic and LCEL)\n",
    "    model.invoke(messages, config={\"callbacks\": [langfuse_handler]})\n",
    " \n",
    "main()"
   ]
  }
 ],
 "metadata": {
  "kernelspec": {
   "display_name": ".venv",
   "language": "python",
   "name": "python3"
  },
  "language_info": {
   "codemirror_mode": {
    "name": "ipython",
    "version": 3
   },
   "file_extension": ".py",
   "mimetype": "text/x-python",
   "name": "python",
   "nbconvert_exporter": "python",
   "pygments_lexer": "ipython3",
   "version": "3.12.4"
  }
 },
 "nbformat": 4,
 "nbformat_minor": 2
}
